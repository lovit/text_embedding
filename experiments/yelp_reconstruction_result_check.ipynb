{
 "cells": [
  {
   "cell_type": "code",
   "execution_count": 90,
   "metadata": {},
   "outputs": [],
   "source": [
    "def load_nn_info(dict_path):\n",
    "    nn_info={}\n",
    "    with open(dict_path, \"r\") as f:\n",
    "        for line in f:\n",
    "            nn_info[line.split(\",\")[0]]=eval(\"[\"+line.split(\",[\")[1])\n",
    "    print(\"[Loader] number of keys: %i\" %(len(nn_info)))\n",
    "    return nn_info\n",
    "\n",
    "def compare_nn_info(answer, candidate, topk=1, verbose=False):\n",
    "    total_cnt=0\n",
    "    num_corr=0\n",
    "    for word, nn in candidate.items():\n",
    "        if nn[0][1] < 0.1 or nn[0][1]==1.0: continue\n",
    "        total_cnt+=1\n",
    "        answer_nn=set([nn_pair[0] for nn_pair in answer[word][:topk]])\n",
    "        recon_nn=set([nn_pair[0] for nn_pair in nn[:topk]])\n",
    "        if answer_nn == recon_nn: \n",
    "            num_corr+=1\n",
    "            if verbose == True:\n",
    "                print(answer_nn)\n",
    "                print(recon_nn)\n",
    "                print(word)\n",
    "    print(\"[RESULT]\")\n",
    "    print(\"Number of test candidates: %i\" %(total_cnt))\n",
    "    print(\"Number of correctly reconstructed words: %i\" %(num_corr))\n",
    "    print(\"...Accuracy for Top %i: %.2f %%\" %(topk, num_corr/float(total_cnt)*100))\n",
    "    return num_corr, total_cnt"
   ]
  },
  {
   "cell_type": "code",
   "execution_count": 91,
   "metadata": {},
   "outputs": [
    {
     "name": "stdout",
     "output_type": "stream",
     "text": [
      "[Loader] number of keys: 32444\n"
     ]
    }
   ],
   "source": [
    "answer_set=load_nn_info(\"./reconstruction_result/answer/yelp_full_answer.txt\")"
   ]
  },
  {
   "cell_type": "code",
   "execution_count": 92,
   "metadata": {},
   "outputs": [
    {
     "name": "stdout",
     "output_type": "stream",
     "text": [
      "./reconstruction_result/reconstruction/yelp_r0.2_proposed_reconstruction.txt\n",
      "[Loader] number of keys: 20049\n",
      "[RESULT]\n",
      "Number of test candidates: 18662\n",
      "Number of correctly reconstructed words: 4756\n",
      "...Accuracy for Top 1: 25.48 %\n",
      "[RESULT]\n",
      "Number of test candidates: 18662\n",
      "Number of correctly reconstructed words: 997\n",
      "...Accuracy for Top 3: 5.34 %\n",
      "[RESULT]\n",
      "Number of test candidates: 18662\n",
      "Number of correctly reconstructed words: 335\n",
      "...Accuracy for Top 5: 1.80 %\n",
      "./reconstruction_result/reconstruction/yelp_r0.1_proposed_reconstruction.txt\n",
      "[Loader] number of keys: 10023\n",
      "[RESULT]\n",
      "Number of test candidates: 9345\n",
      "Number of correctly reconstructed words: 3077\n",
      "...Accuracy for Top 1: 32.93 %\n",
      "[RESULT]\n",
      "Number of test candidates: 9345\n",
      "Number of correctly reconstructed words: 905\n",
      "...Accuracy for Top 3: 9.68 %\n",
      "[RESULT]\n",
      "Number of test candidates: 9345\n",
      "Number of correctly reconstructed words: 451\n",
      "...Accuracy for Top 5: 4.83 %\n",
      "./reconstruction_result/reconstruction/yelp_r0.01_proposed_reconstruction.txt\n",
      "[Loader] number of keys: 999\n",
      "[RESULT]\n",
      "Number of test candidates: 934\n",
      "Number of correctly reconstructed words: 342\n",
      "...Accuracy for Top 1: 36.62 %\n",
      "[RESULT]\n",
      "Number of test candidates: 934\n",
      "Number of correctly reconstructed words: 124\n",
      "...Accuracy for Top 3: 13.28 %\n",
      "[RESULT]\n",
      "Number of test candidates: 934\n",
      "Number of correctly reconstructed words: 55\n",
      "...Accuracy for Top 5: 5.89 %\n",
      "./reconstruction_result/reconstruction/yelp_r0.05_proposed_reconstruction.txt\n",
      "[Loader] number of keys: 5010\n",
      "[RESULT]\n",
      "Number of test candidates: 4696\n",
      "Number of correctly reconstructed words: 1531\n",
      "...Accuracy for Top 1: 32.60 %\n",
      "[RESULT]\n",
      "Number of test candidates: 4696\n",
      "Number of correctly reconstructed words: 479\n",
      "...Accuracy for Top 3: 10.20 %\n",
      "[RESULT]\n",
      "Number of test candidates: 4696\n",
      "Number of correctly reconstructed words: 199\n",
      "...Accuracy for Top 5: 4.24 %\n",
      "./reconstruction_result/reconstruction/yelp_r0.001_proposed_reconstruction.txt\n",
      "[Loader] number of keys: 98\n",
      "[RESULT]\n",
      "Number of test candidates: 95\n",
      "Number of correctly reconstructed words: 31\n",
      "...Accuracy for Top 1: 32.63 %\n",
      "[RESULT]\n",
      "Number of test candidates: 95\n",
      "Number of correctly reconstructed words: 16\n",
      "...Accuracy for Top 3: 16.84 %\n",
      "[RESULT]\n",
      "Number of test candidates: 95\n",
      "Number of correctly reconstructed words: 6\n",
      "...Accuracy for Top 5: 6.32 %\n"
     ]
    }
   ],
   "source": [
    "import glob\n",
    "\n",
    "recon_result=glob.glob(\"./reconstruction_result/reconstruction/*.txt\")\n",
    "\n",
    "for each_recon in recon_result:\n",
    "    print(each_recon)\n",
    "    test_set = load_nn_info(each_recon)\n",
    "    for i in [1,3,5]:\n",
    "        compare_nn_info(answer_set, test_set, i)"
   ]
  }
 ],
 "metadata": {
  "kernelspec": {
   "display_name": "Python 3",
   "language": "python",
   "name": "python3"
  },
  "language_info": {
   "codemirror_mode": {
    "name": "ipython",
    "version": 3
   },
   "file_extension": ".py",
   "mimetype": "text/x-python",
   "name": "python",
   "nbconvert_exporter": "python",
   "pygments_lexer": "ipython3",
   "version": "3.6.7"
  }
 },
 "nbformat": 4,
 "nbformat_minor": 2
}
