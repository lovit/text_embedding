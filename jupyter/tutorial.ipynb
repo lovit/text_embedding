{
 "cells": [
  {
   "cell_type": "code",
   "execution_count": 1,
   "metadata": {
    "collapsed": true
   },
   "outputs": [],
   "source": [
    "import config\n",
    "from config import corpus_path\n",
    "\n",
    "import wordvec_infer\n",
    "from wordvec_infer import sents_to_word_contexts_matrix\n",
    "from wordvec_infer import sents_to_unseen_word_contexts_matrix\n",
    "from wordvec_infer import get_process_memory\n",
    "from wordvec_infer import train_pmi\n",
    "from wordvec_infer import Word2Vec"
   ]
  },
  {
   "cell_type": "markdown",
   "metadata": {},
   "source": [
    "## From string to word - context matrix"
   ]
  },
  {
   "cell_type": "code",
   "execution_count": 2,
   "metadata": {},
   "outputs": [
    {
     "data": {
      "text/plain": [
       "30002"
      ]
     },
     "execution_count": 2,
     "metadata": {},
     "output_type": "execute_result"
    }
   ],
   "source": [
    "import soynlp\n",
    "from soynlp.utils import DoublespaceLineCorpus\n",
    "\n",
    "corpus = DoublespaceLineCorpus(corpus_path, iter_sent=True)\n",
    "len(corpus)"
   ]
  },
  {
   "cell_type": "code",
   "execution_count": 3,
   "metadata": {
    "collapsed": true
   },
   "outputs": [],
   "source": [
    "def my_tokenizer(sent, passwords={'아이오아이'}):\n",
    "    words = [word for word in sent.split() if not (word in passwords)]\n",
    "    return words"
   ]
  },
  {
   "cell_type": "code",
   "execution_count": 4,
   "metadata": {},
   "outputs": [
    {
     "name": "stdout",
     "output_type": "stream",
     "text": [
      "Create (word, contexts) matrix\n",
      "  - counting word frequency from 30001 sents, mem=0.089 Gb #vocabs = 24906\n",
      "  - scanning (word, context) pairs from 30001 sents, mem=0.466 Gb\n",
      "  - (word, context) matrix was constructed. shape = (24906, 24906)                    \n",
      "  - done\n"
     ]
    }
   ],
   "source": [
    "x, idx2vocab = sents_to_word_contexts_matrix(corpus, tokenizer=my_tokenizer)"
   ]
  },
  {
   "cell_type": "code",
   "execution_count": 5,
   "metadata": {
    "collapsed": true
   },
   "outputs": [],
   "source": [
    "pmi, px = train_pmi(x, as_csr=True, verbose=True)"
   ]
  },
  {
   "cell_type": "code",
   "execution_count": 6,
   "metadata": {
    "collapsed": true
   },
   "outputs": [],
   "source": [
    "from sklearn.metrics import pairwise_distances\n",
    "\n",
    "vocab2idx = {vocab:idx for idx, vocab in enumerate(idx2vocab)}\n",
    "\n",
    "def most_similar(word, query_vec=None, topk=10):\n",
    "    if not (word in vocab2idx):\n",
    "        return []\n",
    "\n",
    "    query_idx = vocab2idx[word]\n",
    "\n",
    "    if query_vec == None:\n",
    "        query_vec = pmi[query_idx, :]\n",
    "        #query_vec = y[query_idx].reshape(1,-1)\n",
    "\n",
    "    dist = pairwise_distances(query_vec, pmi, metric='cosine')[0]    \n",
    "    #dist = pairwise_distances(query_vec, y, metric='cosine')[0]\n",
    "    similars = []\n",
    "    for similar_idx in dist.argsort():\n",
    "        if similar_idx == query_idx:\n",
    "            continue\n",
    "\n",
    "        if len(similars) >= topk:\n",
    "            break\n",
    "\n",
    "        similar_word = idx2vocab[similar_idx]\n",
    "        similars.append((similar_word, 1-dist[similar_idx]))\n",
    "\n",
    "    return similars"
   ]
  },
  {
   "cell_type": "code",
   "execution_count": 7,
   "metadata": {},
   "outputs": [
    {
     "data": {
      "text/plain": [
       "[]"
      ]
     },
     "execution_count": 7,
     "metadata": {},
     "output_type": "execute_result"
    }
   ],
   "source": [
    "most_similar('아이오아이')"
   ]
  },
  {
   "cell_type": "code",
   "execution_count": 8,
   "metadata": {},
   "outputs": [
    {
     "data": {
      "text/plain": [
       "[('박진영', 0.44681138124242525),\n",
       " ('완전체', 0.41005233807102337),\n",
       " ('전소미', 0.38464430215667345),\n",
       " ('타이틀곡', 0.32795140778493626),\n",
       " ('엠카운트다운', 0.3060834033627373),\n",
       " ('잠깐', 0.3048808527425122),\n",
       " ('수록곡', 0.30083062875988964),\n",
       " ('중독성', 0.2627468512304537),\n",
       " ('상큼', 0.25309509167253696),\n",
       " ('안무', 0.25293617731426754)]"
      ]
     },
     "execution_count": 8,
     "metadata": {},
     "output_type": "execute_result"
    }
   ],
   "source": [
    "most_similar('너무너무너무')"
   ]
  },
  {
   "cell_type": "code",
   "execution_count": 9,
   "metadata": {},
   "outputs": [
    {
     "name": "stdout",
     "output_type": "stream",
     "text": [
      "Create (unseen word, contexts) matrix\n",
      "  - counting word frequency from 30001 sents, mem=0.368 Gb #vocabs = 24907\n",
      "  - scanning (word, context) pairs from 30001 sents, mem=0.368 Gb\n",
      "  - (word, context) matrix was constructed. shape = (24907, 23638)                    \n",
      "  - done\n"
     ]
    }
   ],
   "source": [
    "x_, idx2vocab_ = sents_to_unseen_word_contexts_matrix(\n",
    "    corpus, {'아이오아이'}, vocab2idx)"
   ]
  },
  {
   "cell_type": "code",
   "execution_count": 10,
   "metadata": {},
   "outputs": [
    {
     "data": {
      "text/plain": [
       "(1, 24906)"
      ]
     },
     "execution_count": 10,
     "metadata": {},
     "output_type": "execute_result"
    }
   ],
   "source": [
    "x_.shape"
   ]
  },
  {
   "cell_type": "code",
   "execution_count": 14,
   "metadata": {
    "collapsed": true
   },
   "outputs": [],
   "source": [
    "pmi_, _ = train_pmi(x_, px, as_csr=True, verbose=True)"
   ]
  },
  {
   "cell_type": "code",
   "execution_count": 11,
   "metadata": {
    "collapsed": true
   },
   "outputs": [],
   "source": [
    "vocab2idx['아이오아이'] = len(vocab2idx)"
   ]
  },
  {
   "cell_type": "code",
   "execution_count": 15,
   "metadata": {},
   "outputs": [
    {
     "data": {
      "text/plain": [
       "<1x24906 sparse matrix of type '<class 'numpy.float64'>'\n",
       "\twith 411 stored elements in Compressed Sparse Row format>"
      ]
     },
     "execution_count": 15,
     "metadata": {},
     "output_type": "execute_result"
    }
   ],
   "source": [
    "pmi_"
   ]
  },
  {
   "cell_type": "code",
   "execution_count": 16,
   "metadata": {},
   "outputs": [
    {
     "data": {
      "text/plain": [
       "[('너무너무너무', 0.49239779565031516),\n",
       " ('엠카운트다운', 0.49202847947770345),\n",
       " ('완전체', 0.4428418916283481),\n",
       " ('신용재', 0.40748588636187133),\n",
       " ('전소미', 0.3580439186104495),\n",
       " ('타이틀곡', 0.34539111085223295),\n",
       " ('엠넷', 0.31874386494750506),\n",
       " ('박진영', 0.31090804599849897),\n",
       " ('오블리스', 0.3072393400941481),\n",
       " ('컴백', 0.28942854144841923)]"
      ]
     },
     "execution_count": 16,
     "metadata": {},
     "output_type": "execute_result"
    }
   ],
   "source": [
    "most_similar('아이오아이', query_vec=pmi_, topk=10)"
   ]
  },
  {
   "cell_type": "markdown",
   "metadata": {},
   "source": [
    "## get components"
   ]
  },
  {
   "cell_type": "code",
   "execution_count": 6,
   "metadata": {
    "collapsed": true
   },
   "outputs": [],
   "source": [
    "from sklearn.decomposition import TruncatedSVD\n",
    "\n",
    "svd = TruncatedSVD(n_components=100)\n",
    "y = svd.fit_transform(pmi)"
   ]
  },
  {
   "cell_type": "code",
   "execution_count": 7,
   "metadata": {},
   "outputs": [
    {
     "data": {
      "text/plain": [
       "((24906, 100), (24906, 24906), (100, 24906))"
      ]
     },
     "execution_count": 7,
     "metadata": {},
     "output_type": "execute_result"
    }
   ],
   "source": [
    "y.shape, pmi.shape, svd.components_.shape"
   ]
  },
  {
   "cell_type": "code",
   "execution_count": 9,
   "metadata": {},
   "outputs": [],
   "source": [
    "from sklearn.utils.extmath import safe_sparse_dot\n",
    "\n",
    "y_ = safe_sparse_dot(pmi, svd.components_.T)"
   ]
  },
  {
   "cell_type": "code",
   "execution_count": null,
   "metadata": {
    "collapsed": true
   },
   "outputs": [],
   "source": []
  },
  {
   "cell_type": "code",
   "execution_count": null,
   "metadata": {
    "collapsed": true
   },
   "outputs": [],
   "source": []
  },
  {
   "cell_type": "code",
   "execution_count": null,
   "metadata": {
    "collapsed": true
   },
   "outputs": [],
   "source": []
  },
  {
   "cell_type": "code",
   "execution_count": null,
   "metadata": {
    "collapsed": true
   },
   "outputs": [],
   "source": []
  },
  {
   "cell_type": "markdown",
   "metadata": {},
   "source": [
    "## Package test"
   ]
  },
  {
   "cell_type": "code",
   "execution_count": 4,
   "metadata": {},
   "outputs": [
    {
     "name": "stdout",
     "output_type": "stream",
     "text": [
      "Create (word, contexts) matrix\n",
      "  - counting word frequency from 30001 sents, mem=0.089 Gb #vocabs = 24906\n",
      "  - scanning (word, context) pairs from 30001 sents, mem=0.466 Gb\n",
      "  - (word, context) matrix was constructed. shape = (24906, 24906)                    \n",
      "  - done\n",
      "Training PMI ... done\n",
      "Training SVD ... done\n"
     ]
    }
   ],
   "source": [
    "word2vec = Word2Vec(tokenizer=my_tokenizer)\n",
    "word2vec.train(corpus)"
   ]
  },
  {
   "cell_type": "code",
   "execution_count": 5,
   "metadata": {},
   "outputs": [
    {
     "data": {
      "text/plain": [
       "[('신용재', 0.9270464973913624),\n",
       " ('완전체', 0.914970384426004),\n",
       " ('타이틀곡', 0.905864914102968),\n",
       " ('엠카운트다운', 0.9041150133215388),\n",
       " ('백퍼센트', 0.9014783849405605),\n",
       " ('몬스타엑스', 0.9010203753612409),\n",
       " ('곡으로', 0.8990371268486782),\n",
       " ('안무', 0.8907120459528796),\n",
       " ('박진영', 0.8871723098381121),\n",
       " ('신곡', 0.8833824952633795)]"
      ]
     },
     "execution_count": 5,
     "metadata": {},
     "output_type": "execute_result"
    }
   ],
   "source": [
    "word2vec.most_similar('너무너무너무')"
   ]
  },
  {
   "cell_type": "code",
   "execution_count": 6,
   "metadata": {},
   "outputs": [
    {
     "data": {
      "text/plain": [
       "[]"
      ]
     },
     "execution_count": 6,
     "metadata": {},
     "output_type": "execute_result"
    }
   ],
   "source": [
    "word2vec.most_similar('아이오아이')"
   ]
  },
  {
   "cell_type": "code",
   "execution_count": 7,
   "metadata": {},
   "outputs": [
    {
     "name": "stdout",
     "output_type": "stream",
     "text": [
      "Create (unseen word, contexts) matrix\n",
      "  - counting word frequency from 30001 sents, mem=0.303 Gb #vocabs = 24907\n",
      "  - scanning (word, context) pairs from 30001 sents, mem=0.303 Gb\n",
      "  - (word, context) matrix was constructed. shape = (24907, 23772)                    \n",
      "  - done\n",
      "Training PMI ... done\n",
      "Applying trained SVD ... done\n",
      "vocabs : 24906 -> 24907\n"
     ]
    }
   ],
   "source": [
    "wordvec, index = word2vec.infer(\n",
    "    corpus,\n",
    "    words={'아이오아이'},\n",
    "    append=True,\n",
    "    tokenizer=lambda x:x.split()\n",
    ")"
   ]
  },
  {
   "cell_type": "code",
   "execution_count": 8,
   "metadata": {},
   "outputs": [
    {
     "data": {
      "text/plain": [
       "[('신용재', 0.9270464973913624),\n",
       " ('아이오아이', 0.9162263412577677),\n",
       " ('완전체', 0.914970384426004),\n",
       " ('타이틀곡', 0.905864914102968),\n",
       " ('엠카운트다운', 0.9041150133215388),\n",
       " ('백퍼센트', 0.9014783849405605),\n",
       " ('몬스타엑스', 0.9010203753612409),\n",
       " ('곡으로', 0.8990371268486782),\n",
       " ('안무', 0.8907120459528796),\n",
       " ('박진영', 0.8871723098381121)]"
      ]
     },
     "execution_count": 8,
     "metadata": {},
     "output_type": "execute_result"
    }
   ],
   "source": [
    "word2vec.most_similar('너무너무너무')"
   ]
  },
  {
   "cell_type": "code",
   "execution_count": 9,
   "metadata": {},
   "outputs": [
    {
     "data": {
      "text/plain": [
       "[('엠카운트다운', 0.9243012341336443),\n",
       " ('엠넷', 0.9219115581331467),\n",
       " ('완전체', 0.91625257534599),\n",
       " ('너무너무너무', 0.9162263412577677),\n",
       " ('타이틀곡', 0.9074516014443481),\n",
       " ('몬스타엑스', 0.9061148638752767),\n",
       " ('멤버들', 0.9013150455703564),\n",
       " ('오블리스', 0.9005074700480684),\n",
       " ('신용재', 0.8961139817184961),\n",
       " ('백퍼센트', 0.8934708002132166)]"
      ]
     },
     "execution_count": 9,
     "metadata": {},
     "output_type": "execute_result"
    }
   ],
   "source": [
    "word2vec.most_similar('아이오아이')"
   ]
  }
 ],
 "metadata": {
  "kernelspec": {
   "display_name": "Python 3",
   "language": "python",
   "name": "python3"
  },
  "language_info": {
   "codemirror_mode": {
    "name": "ipython",
    "version": 3
   },
   "file_extension": ".py",
   "mimetype": "text/x-python",
   "name": "python",
   "nbconvert_exporter": "python",
   "pygments_lexer": "ipython3",
   "version": "3.6.7"
  }
 },
 "nbformat": 4,
 "nbformat_minor": 2
}
